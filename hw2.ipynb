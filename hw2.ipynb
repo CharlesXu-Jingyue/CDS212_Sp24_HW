{
 "cells": [
  {
   "cell_type": "code",
   "execution_count": 1,
   "metadata": {},
   "outputs": [
    {
     "data": {
      "text/plain": [
       "({'A': 0,\n",
       "  'B': 99,\n",
       "  'C': 98,\n",
       "  'D': 102,\n",
       "  'E': 200,\n",
       "  'F': 201,\n",
       "  'G': 202,\n",
       "  'H': 201,\n",
       "  'I': 203,\n",
       "  'J': 303,\n",
       "  'K': 304,\n",
       "  'L': 302,\n",
       "  'M': 406},\n",
       " ['A', 'C', 'H', 'L', 'M'])"
      ]
     },
     "execution_count": 1,
     "metadata": {},
     "output_type": "execute_result"
    }
   ],
   "source": [
    "import heapq\n",
    "\n",
    "# Define the graph as a dictionary where the keys are the nodes and the values are lists of tuples\n",
    "# containing the neighboring node and the distance to that node.\n",
    "graph = {\n",
    "    'A': [('B', 99), ('C', 98), ('D', 102)],\n",
    "    'B': [('A', 99), ('E', 101), ('F', 102), ('G', 103)],\n",
    "    'C': [('A', 98), ('F', 103), ('G', 104), ('H', 103)],\n",
    "    'D': [('A', 102), ('G', 103), ('H', 102), ('I', 101)],\n",
    "    'E': [('B', 101), ('J', 103)],\n",
    "    'F': [('B', 102), ('C', 103), ('J', 105), ('K', 103)],\n",
    "    'G': [('B', 103), ('C', 104), ('D', 103), ('J', 103), ('K', 106), ('L', 102)],\n",
    "    'H': [('C', 103), ('D', 102), ('K', 104), ('L', 101)],\n",
    "    'I': [('D', 101), ('L', 104)],\n",
    "    'J': [('E', 103), ('F', 105), ('G', 103), ('M', 106)],\n",
    "    'K': [('F', 103), ('G', 106), ('H', 104), ('M', 105)],\n",
    "    'L': [('G', 102), ('H', 101), ('I', 104), ('M', 104)],\n",
    "    'M': [('J', 106), ('K', 105), ('L', 104)]\n",
    "}\n",
    "\n",
    "def dijkstra(graph, start, end):\n",
    "    # Priority queue to hold the nodes to visit next, with the distance to them\n",
    "    queue = [(0, start)]\n",
    "    # Dictionary to hold the shortest distance found so far to each node\n",
    "    distances = {node: float('infinity') for node in graph}\n",
    "    # Set the distance to the start node to be zero\n",
    "    distances[start] = 0\n",
    "    # Dictionary to hold the path taken to reach each node\n",
    "    previous_nodes = {node: None for node in graph}\n",
    "\n",
    "    while queue:\n",
    "        # Get the node with the smallest distance so far\n",
    "        current_distance, current_node = heapq.heappop(queue)\n",
    "        # If we have reached the destination node, break out of the loop\n",
    "        if current_node == end:\n",
    "            break\n",
    "\n",
    "        # Visit all neighbors of the current node\n",
    "        for neighbor, weight in graph[current_node]:\n",
    "            distance = current_distance + weight\n",
    "            # If the distance to the neighbor is less than the previously known distance\n",
    "            if distance < distances[neighbor]:\n",
    "                # Update the shortest distance to the neighbor\n",
    "                distances[neighbor] = distance\n",
    "                # Update the path to the neighbor\n",
    "                previous_nodes[neighbor] = current_node\n",
    "                # Add the neighbor to the priority queue\n",
    "                heapq.heappush(queue, (distance, neighbor))\n",
    "\n",
    "    # Reconstruct the shortest path taken to the end node\n",
    "    path = []\n",
    "    while end:\n",
    "        path.append(end)\n",
    "        end = previous_nodes[end]\n",
    "    path.reverse()\n",
    "\n",
    "    return distances, path\n",
    "\n",
    "# Apply Dijkstra's algorithm to find the shortest path from A to M\n",
    "shortest_distances, shortest_path = dijkstra(graph, 'A', 'M')\n",
    "shortest_distances, shortest_path\n"
   ]
  }
 ],
 "metadata": {
  "kernelspec": {
   "display_name": "neuraldynamics",
   "language": "python",
   "name": "python3"
  },
  "language_info": {
   "codemirror_mode": {
    "name": "ipython",
    "version": 3
   },
   "file_extension": ".py",
   "mimetype": "text/x-python",
   "name": "python",
   "nbconvert_exporter": "python",
   "pygments_lexer": "ipython3",
   "version": "3.9.18"
  }
 },
 "nbformat": 4,
 "nbformat_minor": 2
}
